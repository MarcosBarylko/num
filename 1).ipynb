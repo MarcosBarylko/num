{
 "cells": [
  {
   "cell_type": "code",
   "execution_count": 2,
   "metadata": {},
   "outputs": [],
   "source": [
    "import numpy as np\n",
    "import pandas as pd"
   ]
  },
  {
   "cell_type": "code",
   "execution_count": 6,
   "metadata": {},
   "outputs": [
    {
     "name": "stdout",
     "output_type": "stream",
     "text": [
      "El método de bisección convergió en 20 iteraciones -1.8756780624389648\n"
     ]
    }
   ],
   "source": [
    "def biseccion(a, b , tol, itmax = 100): \n",
    "        df = pd.DataFrame(columns=('ai','bi','pi','cond'))\n",
    "        a = a \n",
    "        b = b\n",
    "        contador = 0  \n",
    "        x0, x1 = a, b \n",
    "        if(f(a) * f(b)>0): \n",
    "            print( \"El método no resuelve este tipo de raíz\")\n",
    "            return\n",
    "        while (contador < itmax) and (abs((x1 - x0) / x1) > tol):\n",
    "            x0 = x1                                                 \n",
    "            x1 = (a + b)/2                      \n",
    "            if f(x1) * f(a) < 0:      \n",
    "                df.loc[contador] = [a,b,(a+b)/2,'<0']\n",
    "                b = x1\n",
    "            else:\n",
    "                df.loc[contador] = [a,b,(a+b)/2,'>0']\n",
    "                a = x1\n",
    "            contador += 1                      \n",
    "        error = abs((x1 - x0) / x1)\n",
    "        print('El método de bisección convergió en',contador,'iteraciones',a)\n",
    "        return df\n",
    "    \n",
    "def f(x):\n",
    "    return x**4 - 2*(x**3) - 4*(x**2) + 4*x - 4\n",
    "\n",
    "A = -2\n",
    "B = -1\n",
    "tolerancia = 10**-6\n",
    "\n",
    "ejemplo = biseccion(A,B,tolerancia)\n"
   ]
  }
 ],
 "metadata": {
  "kernelspec": {
   "display_name": "Python 3",
   "language": "python",
   "name": "python3"
  },
  "language_info": {
   "codemirror_mode": {
    "name": "ipython",
    "version": 3
   },
   "file_extension": ".py",
   "mimetype": "text/x-python",
   "name": "python",
   "nbconvert_exporter": "python",
   "pygments_lexer": "ipython3",
   "version": "3.7.7"
  }
 },
 "nbformat": 4,
 "nbformat_minor": 4
}
